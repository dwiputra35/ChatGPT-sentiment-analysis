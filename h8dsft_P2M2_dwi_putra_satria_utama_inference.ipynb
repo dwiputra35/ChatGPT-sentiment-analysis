{
 "cells": [
  {
   "cell_type": "markdown",
   "metadata": {},
   "source": [
    "# Milestone 2 Inference\n",
    "\n",
    "Nama : Dwi Putra Satria Utama\n",
    "\n",
    "Batch : 20"
   ]
  },
  {
   "cell_type": "markdown",
   "metadata": {},
   "source": [
    "# Import libraries"
   ]
  },
  {
   "cell_type": "code",
   "execution_count": 1,
   "metadata": {},
   "outputs": [],
   "source": [
    "# Library Pengolahan Data\n",
    "import numpy as np\n",
    "import pandas as pd\n",
    "import re\n",
    "from nltk.tokenize import word_tokenize\n",
    "from nltk.corpus import stopwords\n",
    "from nltk.stem import PorterStemmer\n",
    "from nltk.stem import WordNetLemmatizer\n",
    "from tensorflow.keras.models import load_model\n"
   ]
  },
  {
   "cell_type": "markdown",
   "metadata": {},
   "source": [
    "# Load model"
   ]
  },
  {
   "cell_type": "code",
   "execution_count": 2,
   "metadata": {},
   "outputs": [],
   "source": [
    "# load model\n",
    "model_inf = load_model('best_model')"
   ]
  },
  {
   "cell_type": "markdown",
   "metadata": {},
   "source": [
    "# Text prepocessing"
   ]
  },
  {
   "cell_type": "code",
   "execution_count": 3,
   "metadata": {},
   "outputs": [],
   "source": [
    "# Load the dictionary slang/abbreviations menjadi kalimat standar (baku)\n",
    "slang_to_standard = {}\n",
    "with open('chatwords.txt', 'r') as file:\n",
    "    for line in file:\n",
    "        words = line.strip().split()\n",
    "        slang = words[0].lower()\n",
    "        standard = ' '.join(words[1:]).lower()\n",
    "        slang_to_standard[slang] = standard\n",
    "\n",
    "stop_words = set(stopwords.words('english'))\n",
    "\n",
    "stemmer = PorterStemmer()\n",
    "lem = WordNetLemmatizer()\n",
    "\n",
    "def is_alpha(word):\n",
    "    for part in word.split('-'):\n",
    "        if not part.isalpha():\n",
    "            return False\n",
    "    return True\n",
    "\n",
    "def tweets_proses(tweets):\n",
    "    # Mengubah Teks ke Lowercase\n",
    "    tweets = tweets.lower()\n",
    "\n",
    "    # Menghilangkan Mention\n",
    "    tweets = re.sub(\"@[A-Za-z0-9_]+\", \" \", tweets)\n",
    "\n",
    "    # Menghilangkan Hashtag\n",
    "    tweets = re.sub(\"#[A-Za-z0-9_]+\", \" \", tweets)\n",
    "\n",
    "    # Menghilangkan \\n\n",
    "    tweets = re.sub(r\"\\\\n\", \" \",tweets)\n",
    "\n",
    "    # Menghilangkan Whitespace\n",
    "    tweets = tweets.strip()\n",
    "\n",
    "    # Menghilangkan Link\n",
    "    tweets = re.sub(r\"http\\S+\", \" \", tweets)\n",
    "    tweets = re.sub(r\"www.\\S+\", \" \", tweets)\n",
    "\n",
    "    # Menghilangkan yang Bukan Huruf seperti Emoji, Simbol Matematika (seperti μ), dst\n",
    "    tweets = re.sub(\"[^A-Za-z\\s']\", \" \", tweets)\n",
    "\n",
    "    # Menghilangkan RT\n",
    "    tweets = re.sub(\"rt\", \" \",tweets)\n",
    "\n",
    "    # Melakukan Tokenisasi\n",
    "    tokens = word_tokenize(tweets)\n",
    "\n",
    "    # Memecah teks menjadi token (kata-kata) menggunakan word_tokenize dan menyimpan kata-kata yang hanya berisi huruf tanda _\n",
    "    words = [word for word in word_tokenize(tweets) if is_alpha(word)]\n",
    "\n",
    "    # Melakukan lemmatisasi pada setiap kata untuk mengubahnya ke bentuk kata dasar\n",
    "    words = [lem.lemmatize(word) for word in words]\n",
    "\n",
    "    # Membuang kata-kata yang termasuk dalam stopwords (kata-kata umum yang sering tidak memberikan banyak informasi).\n",
    "    words = [w for w in words if not w in stop_words]\n",
    "\n",
    "    # Mengganti slang and abbreviations dengan kalimat baku\n",
    "    words = [slang_to_standard[word.lower()] if word.lower() in slang_to_standard else word for word in words]\n",
    "\n",
    "    # Stemming menggunakan NLTK Porter Stemmer\n",
    "    #words = [stemmer.stem(word) for word in words]\n",
    "\n",
    "    # Joining the words back to form the processed text\n",
    "    text = \" \".join(words)\n",
    "\n",
    "\n",
    "\n",
    "    return text\n"
   ]
  },
  {
   "cell_type": "markdown",
   "metadata": {},
   "source": [
    "# Create new data"
   ]
  },
  {
   "cell_type": "code",
   "execution_count": 4,
   "metadata": {},
   "outputs": [
    {
     "data": {
      "text/html": [
       "<div>\n",
       "<style scoped>\n",
       "    .dataframe tbody tr th:only-of-type {\n",
       "        vertical-align: middle;\n",
       "    }\n",
       "\n",
       "    .dataframe tbody tr th {\n",
       "        vertical-align: top;\n",
       "    }\n",
       "\n",
       "    .dataframe thead th {\n",
       "        text-align: right;\n",
       "    }\n",
       "</style>\n",
       "<table border=\"1\" class=\"dataframe\">\n",
       "  <thead>\n",
       "    <tr style=\"text-align: right;\">\n",
       "      <th></th>\n",
       "      <th>tweets</th>\n",
       "    </tr>\n",
       "  </thead>\n",
       "  <tbody>\n",
       "    <tr>\n",
       "      <th>0</th>\n",
       "      <td>Just tried ChatGPT and it is mind-blowing! The...</td>\n",
       "    </tr>\n",
       "  </tbody>\n",
       "</table>\n",
       "</div>"
      ],
      "text/plain": [
       "                                              tweets\n",
       "0  Just tried ChatGPT and it is mind-blowing! The..."
      ]
     },
     "execution_count": 4,
     "metadata": {},
     "output_type": "execute_result"
    }
   ],
   "source": [
    "# Create New Data \n",
    "\n",
    "data_inf = {\n",
    "    'tweets' : 'Just tried ChatGPT and it is mind-blowing! The AI model can generate human-like responses and engage in meaningful conversations. Impressive work by OpenAI'                                \n",
    "}\n",
    "\n",
    "data_inf = pd.DataFrame([data_inf])\n",
    "data_inf"
   ]
  },
  {
   "cell_type": "markdown",
   "metadata": {},
   "source": [
    "# Proses data new data"
   ]
  },
  {
   "cell_type": "code",
   "execution_count": 5,
   "metadata": {},
   "outputs": [],
   "source": [
    "# Preprocessing Data Inference\n",
    "data_inf['tweets_processed'] = data_inf['tweets'].apply(lambda x: tweets_proses(x))"
   ]
  },
  {
   "cell_type": "markdown",
   "metadata": {},
   "source": [
    "# Predict"
   ]
  },
  {
   "cell_type": "code",
   "execution_count": 6,
   "metadata": {},
   "outputs": [
    {
     "name": "stdout",
     "output_type": "stream",
     "text": [
      "1/1 [==============================] - 1s 1s/step\n",
      "good\n"
     ]
    }
   ],
   "source": [
    "# Prediksi jenis tweet\n",
    "y_inf_pred = np.argmax(model_inf.predict(data_inf['tweets_processed']), axis=-1)\n",
    "\n",
    "# Membuat fungsi untuk return result prediksi\n",
    "if y_inf_pred[0] == 0:\n",
    "    result = 'bad'\n",
    "elif y_inf_pred[0] == 1:\n",
    "    result = 'good'\n",
    "else:\n",
    "    result = 'neutral'\n",
    "\n",
    "# Print Result\n",
    "print(result)\n"
   ]
  },
  {
   "cell_type": "markdown",
   "metadata": {},
   "source": [
    "Berdasarkan hasil tersebut bahwa kalimat atau tweets tersebut termasuk good sentimen"
   ]
  }
 ],
 "metadata": {
  "kernelspec": {
   "display_name": "base",
   "language": "python",
   "name": "python3"
  },
  "language_info": {
   "codemirror_mode": {
    "name": "ipython",
    "version": 3
   },
   "file_extension": ".py",
   "mimetype": "text/x-python",
   "name": "python",
   "nbconvert_exporter": "python",
   "pygments_lexer": "ipython3",
   "version": "3.9.16"
  },
  "orig_nbformat": 4
 },
 "nbformat": 4,
 "nbformat_minor": 2
}
